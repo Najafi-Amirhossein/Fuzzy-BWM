{
 "cells": [
  {
   "cell_type": "code",
   "execution_count": 1,
   "id": "6efdb8b5",
   "metadata": {},
   "outputs": [],
   "source": [
    "import pandas as pd\n",
    "pd.options.mode.chained_assignment = None  # default='warn'"
   ]
  },
  {
   "cell_type": "code",
   "execution_count": 10,
   "id": "012b7a26",
   "metadata": {},
   "outputs": [
    {
     "name": "stdout",
     "output_type": "stream",
     "text": [
      "     Criteria                Best                 Worst\n",
      "0  Criteran 1    Fairly important  Absolutely important\n",
      "1  Criteran 2  Equally importance        Very important\n",
      "2  Criteran 3      Very important    Equally importance\n",
      "3  Criteran 4      Very important        Very important\n",
      "4  Criteran 5    Fairly important      Fairly important\n"
     ]
    }
   ],
   "source": [
    "address=\"C:\\\\Users\\\\Amirhossein\\\\Desktop\\\\Fuzzy BWM.xlsx\"\n",
    "\n",
    "df=pd.read_excel(address, sheet_name = \"Criteria\", skiprows = 2,  nrows= 5, usecols=[1,2,3],header=None)\n",
    "df.columns=[\"Criteria\",\"Best\",\"Worst\"]\n",
    "print(df)\n",
    "Best=df[\"Criteria\"][df[df['Best'] == \"Equally importance\"].index.tolist()[0]]\n",
    "Worst=df[\"Criteria\"][df[df['Worst'] == \"Equally importance\"].index.tolist()[0]]\n",
    "df.columns=[\"Criteria\",Best,Worst]\n",
    "Cnum=df.shape[0]\n",
    "\n",
    "df.set_index(df[\"Criteria\"],inplace=True)\n",
    "# Fuzzification\n",
    "Fuzzy={\"Equally importance\": [1, 1, 1],\n",
    "        \"Weakly important\": [2/3, 1, 3/2],\n",
    "        \"Fairly important\":[3/2, 2, 5/2],\n",
    "        \"Very important\":[5/2, 3, 7/2],\n",
    "        \"Absolutely important\":[7/2, 4, 9/2]}\n",
    "\n",
    "for i in [Best,Worst]:\n",
    "    for j in range(df.shape[0]):\n",
    "        df[i][j]=Fuzzy[df[i][j]]\n",
    "        \n",
    "weight=dict()"
   ]
  },
  {
   "cell_type": "code",
   "execution_count": 11,
   "id": "99410ead",
   "metadata": {},
   "outputs": [],
   "source": [
    "#=============================================================================\n",
    "# Model\n",
    "#=============================================================================\n",
    "import pyomo.environ as pyo\n",
    "Model = pyo.ConcreteModel()\n",
    "\n",
    "# Set\n",
    "Model.Criteria=pyo.Set(initialize=df[\"Criteria\"])\n",
    "\n",
    "# Set and variable\n",
    "Model.L=pyo.Var(Model.Criteria, within=pyo.PositiveReals)\n",
    "Model.M=pyo.Var(Model.Criteria, within=pyo.PositiveReals)\n",
    "Model.U=pyo.Var(Model.Criteria, within=pyo.PositiveReals)\n",
    "Model.ksi=pyo.Var(within=pyo.NonNegativeReals)\n",
    "\n",
    "def obj1(model):\n",
    "    return Model.ksi\n",
    "Model.obj1=pyo.Objective(expr=obj1 ,sense=pyo.minimize)\n",
    "# Model.obj1.pprint()\n",
    "\n",
    "L=[Model.L, Model.M, Model.U]\n",
    "Lp=L.copy(); Lp.reverse()\n",
    "\n",
    "def Co1(Model, i, j):\n",
    "    return (j[Best]-df[Best][i][L.index(j)]*Lp[L.index(j)][i]<= Model.ksi*Lp[L.index(j)][i])\n",
    "Model.Co1 = pyo.Constraint(Model.Criteria, L, rule=Co1)\n",
    "# Model.Co1.pprint()\n",
    "\n",
    "def Co2(Model, i, j):\n",
    "    return (j[Best]-df[Best][i][L.index(j)]*Lp[L.index(j)][i]>= -Model.ksi*Lp[L.index(j)][i])\n",
    "Model.Co2 = pyo.Constraint(Model.Criteria, L, rule=Co2)\n",
    "# Model.Co2.pprint()\n",
    "\n",
    "def Co3(Model, i, j):\n",
    "    return (j[i]-df[Worst][i][L.index(j)]*Lp[L.index(j)][Worst]<= Model.ksi*Lp[L.index(j)][Worst])\n",
    "Model.Co3 = pyo.Constraint(Model.Criteria, L, rule=Co3)\n",
    "# Model.Co3.pprint()\n",
    "\n",
    "def Co4(Model, i,j):\n",
    "    return (j[i]-df[Worst][i][L.index(j)]*Lp[L.index(j)][Worst]>= -Model.ksi*Lp[L.index(j)][Worst])\n",
    "Model.Co4 = pyo.Constraint(Model.Criteria, L, rule=Co4)\n",
    "# Model.Co4.pprint()\n",
    "\n",
    "def Co5(Model):\n",
    "    return (sum(j[i] if L.index(j)!=1 else 4*j[i] for i in Model.Criteria for j in L)/6==1)\n",
    "Model.Co5 = pyo.Constraint(rule=Co5)\n",
    "# Model.Co5.pprint()\n",
    "\n",
    "def Co6(Model,i):\n",
    "    return (Model.L[i]<=Model.M[i])\n",
    "Model.Co6 = pyo.Constraint(Model.Criteria,rule=Co6)\n",
    "# Model.Co6.pprint()\n",
    "\n",
    "def Co7(Model,i):\n",
    "    return (Model.M[i]<=Model.U[i])\n",
    "Model.Co7 = pyo.Constraint(Model.Criteria,rule=Co7)"
   ]
  },
  {
   "cell_type": "code",
   "execution_count": 12,
   "id": "14704991",
   "metadata": {},
   "outputs": [
    {
     "name": "stdout",
     "output_type": "stream",
     "text": [
      "Ipopt 3.11.1: \n",
      "\n",
      "******************************************************************************\n",
      "This program contains Ipopt, a library for large-scale nonlinear optimization.\n",
      " Ipopt is released as open source code under the Eclipse Public License (EPL).\n",
      "         For more information visit http://projects.coin-or.org/Ipopt\n",
      "******************************************************************************\n",
      "\n",
      "NOTE: You are using Ipopt by default with the MUMPS linear solver.\n",
      "      Other linear solvers might be more efficient (see Ipopt documentation).\n",
      "\n",
      "\n",
      "This is Ipopt version 3.11.1, running with linear solver mumps.\n",
      "\n",
      "Number of nonzeros in equality constraint Jacobian...:       15\n",
      "Number of nonzeros in inequality constraint Jacobian.:      196\n",
      "Number of nonzeros in Lagrangian Hessian.............:       15\n",
      "\n",
      "Total number of variables............................:       16\n",
      "                     variables with only lower bounds:       16\n",
      "                variables with lower and upper bounds:        0\n",
      "                     variables with only upper bounds:        0\n",
      "Total number of equality constraints.................:        1\n",
      "Total number of inequality constraints...............:       70\n",
      "        inequality constraints with only lower bounds:        0\n",
      "   inequality constraints with lower and upper bounds:        0\n",
      "        inequality constraints with only upper bounds:       70\n",
      "\n",
      "iter    objective    inf_pr   inf_du lg(mu)  ||d||  lg(rg) alpha_du alpha_pr  ls\n",
      "   0 9.9999900e-003 9.50e-001 5.96e-001  -1.0 0.00e+000    -  0.00e+000 0.00e+000   0\n",
      "   1 1.6234165e-002 8.88e-001 1.33e+000  -1.7 3.88e-001    -  2.62e-002 6.52e-002h  1\n",
      "   2 2.9932876e-002 8.48e-001 1.28e+000  -1.7 3.56e-001    -  5.51e-002 4.55e-002h  1\n",
      "   3 7.3146022e-001 7.24e-001 1.32e+001  -1.7 4.82e+000    -  1.30e-002 1.45e-001f  1\n",
      "   4 9.6906024e-001 5.33e-001 3.37e+001  -1.7 9.02e-001    -  6.90e-002 2.63e-001f  1\n",
      "   5 1.0895766e+000 2.22e-016 3.53e+000  -1.7 3.50e-001    -  3.53e-001 1.00e+000f  1\n",
      "   6 1.0635188e+000 0.00e+000 5.04e+000  -1.7 4.26e-002    -  6.77e-001 1.00e+000h  1\n",
      "   7 1.1968918e+000 2.22e-016 1.59e+000  -1.7 1.40e-001    -  7.96e-001 1.00e+000f  1\n",
      "   8 1.6141287e+000 2.22e-016 3.13e+000  -1.7 4.17e-001    -  4.91e-001 1.00e+000f  1\n",
      "   9 1.8052396e+000 2.22e-016 2.15e-001  -1.7 1.91e-001    -  1.00e+000 1.00e+000h  1\n",
      "iter    objective    inf_pr   inf_du lg(mu)  ||d||  lg(rg) alpha_du alpha_pr  ls\n",
      "  10 2.0956480e+000 1.11e-016 1.12e-001  -1.7 2.90e-001    -  1.00e+000 1.00e+000h  1\n",
      "  11 1.5198323e+000 1.11e-016 6.15e-001  -2.5 2.85e+000    -  4.61e-001 2.03e-001f  1\n",
      "  12 1.1714200e+000 0.00e+000 2.95e-001  -2.5 6.29e-001    -  8.23e-001 5.54e-001h  1\n",
      "  13 1.0080917e+000 0.00e+000 7.99e-002  -2.5 1.63e-001    -  9.04e-001 1.00e+000h  1\n",
      "  14 1.0327102e+000 0.00e+000 3.81e-002  -2.5 2.46e-002    -  1.00e+000 1.00e+000h  1\n",
      "  15 1.0261592e+000 1.11e-016 4.10e-003  -2.5 7.91e-003    -  1.00e+000 1.00e+000h  1\n",
      "  16 1.0010201e+000 0.00e+000 4.91e-001  -3.8 4.10e-002    -  1.00e+000 6.13e-001f  1\n",
      "  17 1.0005456e+000 2.22e-016 1.07e-003  -3.8 4.75e-004    -  1.00e+000 1.00e+000f  1\n",
      "  18 1.0000027e+000 2.22e-016 7.20e-003  -5.7 5.63e-004    -  1.00e+000 9.65e-001h  1\n",
      "  19 1.0000073e+000 0.00e+000 6.76e-007  -5.7 2.08e-004    -  1.00e+000 1.00e+000f  1\n",
      "iter    objective    inf_pr   inf_du lg(mu)  ||d||  lg(rg) alpha_du alpha_pr  ls\n",
      "  20 9.9999991e-001 0.00e+000 2.80e-008  -8.6 5.67e-005    -  1.00e+000 1.00e+000h  1\n",
      "  21 9.9999991e-001 0.00e+000 8.71e-004  -8.6 5.56e-002    -  1.00e+000 1.00e+000h  1\n",
      "  22 9.9999991e-001 2.22e-016 3.10e-007  -8.6 2.03e-003    -  1.00e+000 1.00e+000h  1\n",
      "  23 9.9999991e-001 1.11e-016 1.82e-012  -8.6 4.94e-006    -  1.00e+000 1.00e+000h  1\n",
      "\n",
      "Number of Iterations....: 23\n",
      "\n",
      "                                   (scaled)                 (unscaled)\n",
      "Objective...............:  9.9999990887824197e-001   9.9999990887824197e-001\n",
      "Dual infeasibility......:  1.8230410274259399e-012   1.8230410274259399e-012\n",
      "Constraint violation....:  1.1102230246251565e-016   1.1102230246251565e-016\n",
      "Complementarity.........:  2.5059035658959564e-009   2.5059035658959564e-009\n",
      "Overall NLP error.......:  2.5059035658959564e-009   2.5059035658959564e-009\n",
      "\n",
      "\n",
      "Number of objective function evaluations             = 24\n",
      "Number of objective gradient evaluations             = 24\n",
      "Number of equality constraint evaluations            = 24\n",
      "Number of inequality constraint evaluations          = 24\n",
      "Number of equality constraint Jacobian evaluations   = 24\n",
      "Number of inequality constraint Jacobian evaluations = 24\n",
      "Number of Lagrangian Hessian evaluations             = 23\n",
      "Total CPU secs in IPOPT (w/o function evaluations)   =      0.025\n",
      "Total CPU secs in NLP function evaluations           =      0.000\n",
      "\n",
      "EXIT: Optimal Solution Found.\n"
     ]
    },
    {
     "data": {
      "text/plain": [
       "'\\nprint(\"ksi= \",Model.ksi())\\nModel.pprint()\\nModel.display()\\n        \\n'"
      ]
     },
     "execution_count": 12,
     "metadata": {},
     "output_type": "execute_result"
    }
   ],
   "source": [
    "import pyomo.opt as pyopt\n",
    "results=pyopt.SolverFactory(\"ipopt\").solve(Model, tee=True) # doctest: +SKIP\n",
    "\n",
    "for i in Model.Criteria:\n",
    "    a=[]\n",
    "    for j in L:\n",
    "        a.append(j[i].value)\n",
    "    weight.update({i: a})\n",
    "    \n",
    "\"\"\"\n",
    "print(\"ksi= \",Model.ksi())\n",
    "Model.pprint()\n",
    "Model.display()\n",
    "        \n",
    "\"\"\""
   ]
  },
  {
   "cell_type": "code",
   "execution_count": 13,
   "id": "17c7f050",
   "metadata": {},
   "outputs": [
    {
     "data": {
      "text/plain": [
       "{'Criteran 1': [0.22232570861069512, 0.2660321473360896, 0.363098767656071],\n",
       " 'Criteran 2': [0.2970257163652376, 0.3163762940980174, 0.3411552877341889],\n",
       " 'Criteran 3': [0.07726211680920207, 0.07909407332180773, 0.08710677608079348],\n",
       " 'Criteran 4': [0.13344002507080333, 0.15818814434631215, 0.19566531895717929],\n",
       " 'Criteran 5': [0.12555906181771817, 0.16170821126929297, 0.231765739412031]}"
      ]
     },
     "execution_count": 13,
     "metadata": {},
     "output_type": "execute_result"
    }
   ],
   "source": [
    "weight"
   ]
  }
 ],
 "metadata": {
  "kernelspec": {
   "display_name": "Python 3.9.7 ('base')",
   "language": "python",
   "name": "python3"
  },
  "language_info": {
   "codemirror_mode": {
    "name": "ipython",
    "version": 3
   },
   "file_extension": ".py",
   "mimetype": "text/x-python",
   "name": "python",
   "nbconvert_exporter": "python",
   "pygments_lexer": "ipython3",
   "version": "3.9.7"
  },
  "vscode": {
   "interpreter": {
    "hash": "c33ef0d4398937ecb5268daa690e9c83c694125b3e6c89d9a5ef925d0e1e9cba"
   }
  }
 },
 "nbformat": 4,
 "nbformat_minor": 5
}
